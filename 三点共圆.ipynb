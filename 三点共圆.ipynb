{
 "cells": [
  {
   "cell_type": "code",
   "execution_count": 10,
   "metadata": {},
   "outputs": [],
   "source": [
    "import random\n",
    "import math"
   ]
  },
  {
   "cell_type": "code",
   "execution_count": 62,
   "metadata": {},
   "outputs": [],
   "source": [
    "a = [random.random(),random.random()]\n",
    "b = [random.random(),random.random()]\n",
    "c = [random.random(),random.random()]"
   ]
  },
  {
   "cell_type": "markdown",
   "metadata": {},
   "source": [
    "通过三点坐标求圆心和半径"
   ]
  },
  {
   "cell_type": "code",
   "execution_count": 53,
   "metadata": {},
   "outputs": [],
   "source": [
    "def getline(cor1,cor2):\n",
    "        a = cor1[0]\n",
    "        b = cor1[1]\n",
    "        c = cor2[0]\n",
    "        d = cor2[1]\n",
    "        slope = (c-a)/(b-d)\n",
    "        intercept = (b+d)/2 - (a+c)*(c-a)/(2*(b-d))\n",
    "        return([slope,intercept])\n",
    "def getcenter(a,b,c):\n",
    "    line1 = getline(a,b)\n",
    "    line2 = getline(b,c)\n",
    "    a = line1[0]\n",
    "    b = line1[1]\n",
    "    c = line2[0]\n",
    "    d = line2[1]\n",
    "    center = [(d-b)/(a - c), (a*d-b*c)/(a-c)]\n",
    "    return(center)\n",
    "def getr(a,b,c):\n",
    "    line1 = getline(a,b)\n",
    "    line2 = getline(b,c)\n",
    "    center = getcenter(a,b,c)\n",
    "    r = ((center[0]-a[0])**2+(center[1] - a[1])**2)**0.5\n",
    "    return r"
   ]
  },
  {
   "cell_type": "markdown",
   "metadata": {},
   "source": [
    "验证计算结果"
   ]
  },
  {
   "cell_type": "code",
   "execution_count": 84,
   "metadata": {},
   "outputs": [
    {
     "data": {
      "text/plain": [
       "<matplotlib.patches.Circle at 0x2be47c00fd0>"
      ]
     },
     "execution_count": 84,
     "metadata": {},
     "output_type": "execute_result"
    },
    {
     "data": {
      "image/png": "[encoded data removed]",
      "text/plain": [
       "<Figure size 432x288 with 1 Axes>"
      ]
     },
     "metadata": {
      "needs_background": "light"
     },
     "output_type": "display_data"
    }
   ],
   "source": [
    "import matplotlib.pyplot as plt\n",
    "from matplotlib.patches import Ellipse, Circle\n",
    "fig = plt.figure()\n",
    "ax = fig.add_subplot(111)\n",
    "r = getr(a,b,c)\n",
    "center = getcenter(a,b,c)\n",
    "plt.scatter([a[0],b[0],c[0],center[0]],[a[1],b[1],c[1],center[1]])\n",
    "plt.axis('equal')\n",
    "cir1 = Circle(xy = (center[0],center[1]), radius=r, alpha=0.1)\n",
    "cir2 = Circle(xy = (0,0), radius=1, alpha=0.5)\n",
    "\n",
    "ax.add_patch(cir1)\n",
    "ax.add_patch(cir2)\n"
   ]
  },
  {
   "cell_type": "code",
   "execution_count": 101,
   "metadata": {},
   "outputs": [],
   "source": [
    "def in_out(a,b,c):\n",
    "    r = getr(a,b,c)\n",
    "    center = getcenter(a,b,c)\n",
    "    if ((center[0]**2+center[1]**2)**0.5+r)<= 1:\n",
    "        i_o = 1\n",
    "    else:\n",
    "        i_o = 0\n",
    "    return i_o"
   ]
  },
  {
   "cell_type": "code",
   "execution_count": 105,
   "metadata": {},
   "outputs": [],
   "source": [
    "def ynqd():    \n",
    "    x1 = random.uniform(-1,1)    \n",
    "    y1 = random.uniform(-1,1)    \n",
    "    while ((x1 ** 2 + y1 ** 2) ** 0.5 > 1):        \n",
    "        x1 = random.uniform(-1,1)        \n",
    "        y1 = random.uniform(-1,1)    \n",
    "    else:        \n",
    "        return [x1,y1]\n"
   ]
  },
  {
   "cell_type": "code",
   "execution_count": 108,
   "metadata": {},
   "outputs": [
    {
     "data": {
      "text/plain": [
       "0.40079"
      ]
     },
     "execution_count": 108,
     "metadata": {},
     "output_type": "execute_result"
    }
   ],
   "source": [
    "prob = 0\n",
    "for i in range(100000):\n",
    "    a = ynqd()\n",
    "    b = ynqd()\n",
    "    c = ynqd()\n",
    "    prob += in_out(a,b,c)\n",
    "prob = prob / 100000\n",
    "prob"
   ]
  },
  {
   "cell_type": "code",
   "execution_count": 94,
   "metadata": {},
   "outputs": [
    {
     "ename": "ModuleNotFoundError",
     "evalue": "No module named 'circle'",
     "output_type": "error",
     "traceback": [
      "\u001b[1;31m---------------------------------------------------------------------------\u001b[0m",
      "\u001b[1;31mModuleNotFoundError\u001b[0m                       Traceback (most recent call last)",
      "\u001b[1;32m<ipython-input-94-2927cf74fd1d>\u001b[0m in \u001b[0;36m<module>\u001b[1;34m\u001b[0m\n\u001b[0;32m      1\u001b[0m \u001b[1;32mimport\u001b[0m \u001b[0mnumpy\u001b[0m \u001b[1;32mas\u001b[0m \u001b[0mnp\u001b[0m\u001b[1;33m\u001b[0m\u001b[1;33m\u001b[0m\u001b[0m\n\u001b[0;32m      2\u001b[0m \u001b[1;32mimport\u001b[0m \u001b[0mmatplotlib\u001b[0m\u001b[1;33m.\u001b[0m\u001b[0mpyplot\u001b[0m \u001b[1;32mas\u001b[0m \u001b[0mplt\u001b[0m\u001b[1;33m\u001b[0m\u001b[1;33m\u001b[0m\u001b[0m\n\u001b[1;32m----> 3\u001b[1;33m \u001b[1;32mfrom\u001b[0m \u001b[0mcircle\u001b[0m \u001b[1;32mimport\u001b[0m \u001b[0mgetrandompt1\u001b[0m\u001b[1;33m,\u001b[0m \u001b[0mgetrandompt2\u001b[0m\u001b[1;33m\u001b[0m\u001b[1;33m\u001b[0m\u001b[0m\n\u001b[0m\u001b[0;32m      4\u001b[0m \u001b[1;33m\u001b[0m\u001b[0m\n\u001b[0;32m      5\u001b[0m \u001b[0mgetrandompt2\u001b[0m\u001b[1;33m(\u001b[0m\u001b[1;36m1\u001b[0m\u001b[1;33m)\u001b[0m\u001b[1;33m\u001b[0m\u001b[1;33m\u001b[0m\u001b[0m\n",
      "\u001b[1;31mModuleNotFoundError\u001b[0m: No module named 'circle'"
     ]
    }
   ],
   "source": []
  }
 ],
 "metadata": {
  "kernelspec": {
   "display_name": "Python 3",
   "language": "python",
   "name": "python3"
  },
  "language_info": {
   "codemirror_mode": {
    "name": "ipython",
    "version": 3
   },
   "file_extension": ".py",
   "mimetype": "text/x-python",
   "name": "python",
   "nbconvert_exporter": "python",
   "pygments_lexer": "ipython3",
   "version": "3.7.3"
  }
 },
 "nbformat": 4,
 "nbformat_minor": 2
}
